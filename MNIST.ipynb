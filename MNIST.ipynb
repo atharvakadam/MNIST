{
  "nbformat": 4,
  "nbformat_minor": 0,
  "metadata": {
    "colab": {
      "name": "MNIST.ipynb",
      "provenance": [],
      "collapsed_sections": [],
      "toc_visible": true,
      "authorship_tag": "ABX9TyOvp+aHDqZR0H758C/fHS/T",
      "include_colab_link": true
    },
    "kernelspec": {
      "name": "python3",
      "display_name": "Python 3"
    }
  },
  "cells": [
    {
      "cell_type": "markdown",
      "metadata": {
        "id": "view-in-github",
        "colab_type": "text"
      },
      "source": [
        "<a href=\"https://colab.research.google.com/github/atharvakadam/MNIST/blob/master/MNIST.ipynb\" target=\"_parent\"><img src=\"https://colab.research.google.com/assets/colab-badge.svg\" alt=\"Open In Colab\"/></a>"
      ]
    },
    {
      "cell_type": "code",
      "metadata": {
        "id": "YYbDv45qO6mX",
        "colab_type": "code",
        "colab": {}
      },
      "source": [
        "%tensorflow_version 1.x"
      ],
      "execution_count": 0,
      "outputs": []
    },
    {
      "cell_type": "code",
      "metadata": {
        "id": "K6vouRpdeo35",
        "colab_type": "code",
        "colab": {}
      },
      "source": [
        "import tensorflow as tf"
      ],
      "execution_count": 0,
      "outputs": []
    },
    {
      "cell_type": "code",
      "metadata": {
        "id": "-QTdjLxVev46",
        "colab_type": "code",
        "outputId": "893930db-9d0f-44a3-9222-299a7177c837",
        "colab": {
          "base_uri": "https://localhost:8080/",
          "height": 34
        }
      },
      "source": [
        "tf.__version__"
      ],
      "execution_count": 3,
      "outputs": [
        {
          "output_type": "execute_result",
          "data": {
            "text/plain": [
              "'1.15.0'"
            ]
          },
          "metadata": {
            "tags": []
          },
          "execution_count": 3
        }
      ]
    },
    {
      "cell_type": "code",
      "metadata": {
        "id": "fCL203B2e1oA",
        "colab_type": "code",
        "colab": {}
      },
      "source": [
        "%matplotlib inline\n",
        "import matplotlib.pyplot as plt\n",
        "import tensorflow as tf\n",
        "import numpy as np\n",
        "from sklearn.metrics import confusion_matrix\n",
        "import time\n",
        "from datetime import timedelta \n",
        "import math"
      ],
      "execution_count": 0,
      "outputs": []
    },
    {
      "cell_type": "markdown",
      "metadata": {
        "id": "qRxweyaniXRN",
        "colab_type": "text"
      },
      "source": [
        "##Configuration of our Neural Network"
      ]
    },
    {
      "cell_type": "code",
      "metadata": {
        "id": "SX0IcriKifGD",
        "colab_type": "code",
        "colab": {}
      },
      "source": [
        "# Convolution Layer 1 \n",
        "\n",
        "filter_size1 = 5 # size of the every filter in the first layer in pixels\n",
        "num_filters1 = 16 # number of filters for the first layer\n",
        "\n",
        "# Convolution Layer 2\n",
        "\n",
        "filter_size2 = 5 # size of the every filter in the first layer in pixels\n",
        "num_filters2 = 36 # number of filters for the first layer\n",
        "\n",
        "\n",
        "# Fully Connected layer\n",
        "full_connection_size = 128  #Number of neurons in fully connected layer\n"
      ],
      "execution_count": 0,
      "outputs": []
    },
    {
      "cell_type": "code",
      "metadata": {
        "id": "WK7r3OqUjWUk",
        "colab_type": "code",
        "outputId": "ac6ca519-0371-4f62-ab52-9e529b758ad4",
        "colab": {
          "base_uri": "https://localhost:8080/",
          "height": 411
        }
      },
      "source": [
        "from tensorflow.examples.tutorials.mnist import input_data \n",
        "data = input_data.read_data_sets('data/MNIST/',one_hot=True)"
      ],
      "execution_count": 6,
      "outputs": [
        {
          "output_type": "stream",
          "text": [
            "WARNING:tensorflow:From <ipython-input-6-6be770ffa9dc>:2: read_data_sets (from tensorflow.contrib.learn.python.learn.datasets.mnist) is deprecated and will be removed in a future version.\n",
            "Instructions for updating:\n",
            "Please use alternatives such as official/mnist/dataset.py from tensorflow/models.\n",
            "WARNING:tensorflow:From /usr/local/lib/python3.6/dist-packages/tensorflow_core/contrib/learn/python/learn/datasets/mnist.py:260: maybe_download (from tensorflow.contrib.learn.python.learn.datasets.base) is deprecated and will be removed in a future version.\n",
            "Instructions for updating:\n",
            "Please write your own downloading logic.\n",
            "WARNING:tensorflow:From /usr/local/lib/python3.6/dist-packages/tensorflow_core/contrib/learn/python/learn/datasets/mnist.py:262: extract_images (from tensorflow.contrib.learn.python.learn.datasets.mnist) is deprecated and will be removed in a future version.\n",
            "Instructions for updating:\n",
            "Please use tf.data to implement this functionality.\n",
            "Extracting data/MNIST/train-images-idx3-ubyte.gz\n",
            "WARNING:tensorflow:From /usr/local/lib/python3.6/dist-packages/tensorflow_core/contrib/learn/python/learn/datasets/mnist.py:267: extract_labels (from tensorflow.contrib.learn.python.learn.datasets.mnist) is deprecated and will be removed in a future version.\n",
            "Instructions for updating:\n",
            "Please use tf.data to implement this functionality.\n",
            "Extracting data/MNIST/train-labels-idx1-ubyte.gz\n",
            "WARNING:tensorflow:From /usr/local/lib/python3.6/dist-packages/tensorflow_core/contrib/learn/python/learn/datasets/mnist.py:110: dense_to_one_hot (from tensorflow.contrib.learn.python.learn.datasets.mnist) is deprecated and will be removed in a future version.\n",
            "Instructions for updating:\n",
            "Please use tf.one_hot on tensors.\n",
            "Extracting data/MNIST/t10k-images-idx3-ubyte.gz\n",
            "Extracting data/MNIST/t10k-labels-idx1-ubyte.gz\n",
            "WARNING:tensorflow:From /usr/local/lib/python3.6/dist-packages/tensorflow_core/contrib/learn/python/learn/datasets/mnist.py:290: DataSet.__init__ (from tensorflow.contrib.learn.python.learn.datasets.mnist) is deprecated and will be removed in a future version.\n",
            "Instructions for updating:\n",
            "Please use alternatives such as official/mnist/dataset.py from tensorflow/models.\n"
          ],
          "name": "stdout"
        }
      ]
    },
    {
      "cell_type": "code",
      "metadata": {
        "id": "HfvL3YKaj_SX",
        "colab_type": "code",
        "outputId": "1c7f5ebb-6991-4515-81eb-39e6b4354c71",
        "colab": {
          "base_uri": "https://localhost:8080/",
          "height": 85
        }
      },
      "source": [
        "print(\"Size of:\")\n",
        "print(\"- Training-set:\\t\\t{}\".format(len(data.train.labels)))\n",
        "print(\"- Validation-set:\\t{}\".format(len(data.validation.labels)))\n",
        "print(\"- Test-set:\\t\\t{}\".format(len(data.test.labels)))"
      ],
      "execution_count": 7,
      "outputs": [
        {
          "output_type": "stream",
          "text": [
            "Size of:\n",
            "- Training-set:\t\t55000\n",
            "- Validation-set:\t5000\n",
            "- Test-set:\t\t10000\n"
          ],
          "name": "stdout"
        }
      ]
    },
    {
      "cell_type": "code",
      "metadata": {
        "id": "2moL3VR1lQVY",
        "colab_type": "code",
        "colab": {}
      },
      "source": [
        "data.test.cls = np.argmax(data.test.labels, axis=1)"
      ],
      "execution_count": 0,
      "outputs": []
    },
    {
      "cell_type": "markdown",
      "metadata": {
        "id": "Vk07-q9SmZKv",
        "colab_type": "text"
      },
      "source": [
        "##Data Dimensions"
      ]
    },
    {
      "cell_type": "code",
      "metadata": {
        "id": "vJ-eJvWWmdH1",
        "colab_type": "code",
        "colab": {}
      },
      "source": [
        "#MNIST Images are 28 pixels in size\n",
        "img_size = 28\n",
        "\n",
        "#Images are stored in one dimensional array of this length- Every square box of pixel is stored with a dot product value for white or black based on the pixel\n",
        "img_flat_size = img_size * img_size\n",
        "\n",
        "#A tuple with height and width of images used to reshape arrays.\n",
        "img_shape = (img_size, img_size)"
      ],
      "execution_count": 0,
      "outputs": []
    },
    {
      "cell_type": "code",
      "metadata": {
        "id": "f6lhXbM1nVgU",
        "colab_type": "code",
        "colab": {}
      },
      "source": [
        "# Number of color channels - 1 channel for grayscale\n",
        "num_channels = 1\n",
        "\n",
        "# One class each for each of the 10 digits\n",
        "num_classes = 10"
      ],
      "execution_count": 0,
      "outputs": []
    },
    {
      "cell_type": "markdown",
      "metadata": {
        "id": "7lN1nZl5n5_m",
        "colab_type": "text"
      },
      "source": [
        "Helper Functions for Plotting Images"
      ]
    },
    {
      "cell_type": "code",
      "metadata": {
        "id": "GaUovkrKn9FH",
        "colab_type": "code",
        "colab": {}
      },
      "source": [
        "def plot_images(images, cls_true, cls_pred=None):\n",
        "    assert len(images) == len(cls_true) == 9\n",
        "    \n",
        "    # Create figure with 3x3 sub-plots.\n",
        "    fig, axes = plt.subplots(3, 3)\n",
        "    fig.subplots_adjust(hspace=0.3, wspace=0.3)\n",
        "\n",
        "    for i, ax in enumerate(axes.flat):\n",
        "        # Plot image.\n",
        "        ax.imshow(images[i].reshape(img_shape), cmap='binary')\n",
        "\n",
        "        # Show true and predicted classes.\n",
        "        if cls_pred is None:\n",
        "            xlabel = \"True: {0}\".format(cls_true[i])\n",
        "        else:\n",
        "            xlabel = \"True: {0}, Pred: {1}\".format(cls_true[i], cls_pred[i])\n",
        "\n",
        "        ax.set_xlabel(xlabel)\n",
        "        \n",
        "        # Remove ticks from the plot.\n",
        "        ax.set_xticks([])\n",
        "        ax.set_yticks([])\n",
        "        \n",
        "    # Ensure the plot is shown correctly with multiple plots\n",
        "    # in a single Notebook cell.\n",
        "    plt.show()"
      ],
      "execution_count": 0,
      "outputs": []
    },
    {
      "cell_type": "code",
      "metadata": {
        "id": "tnX4X53NoDKe",
        "colab_type": "code",
        "outputId": "b3f420f4-2887-4311-ccd8-cb7b78a19cd0",
        "colab": {
          "base_uri": "https://localhost:8080/",
          "height": 262
        }
      },
      "source": [
        "# Get first 9 images \n",
        "images = data.test.images[0:9]\n",
        "\n",
        "# get their true classes from the array of true values calculated earlier\n",
        "cls_true = data.test.cls[0:9]\n",
        "\n",
        "# use plot images helper function to plot first nine images with their true class values\n",
        "plot_images(images=images, cls_true=cls_true)"
      ],
      "execution_count": 12,
      "outputs": [
        {
          "output_type": "display_data",
          "data": {
            "image/png": "[encoded data removed]",
            "text/plain": [
              "<Figure size 432x288 with 9 Axes>"
            ]
          },
          "metadata": {
            "tags": []
          }
        }
      ]
    },
    {
      "cell_type": "markdown",
      "metadata": {
        "id": "fMMWFvQ4S1AJ",
        "colab_type": "text"
      },
      "source": [
        "### Helper Functions to update model variables\n"
      ]
    },
    {
      "cell_type": "code",
      "metadata": {
        "id": "E0L3lk4oogmX",
        "colab_type": "code",
        "colab": {}
      },
      "source": [
        "def new_weight(shape):\n",
        "    return tf.Variable(tf.truncated_normal(shape,stddev=0.05))\n",
        "\n",
        "def new_biases(length):\n",
        "    return tf.Variable(tf.constant(0.05,shape=[length]))    "
      ],
      "execution_count": 0,
      "outputs": []
    },
    {
      "cell_type": "markdown",
      "metadata": {
        "id": "kT6u7bC4TW4X",
        "colab_type": "text"
      },
      "source": [
        "### Helper Functions for creating a new Convolution Layer\n",
        "\n",
        "\n",
        "This is the part where we add mathematical formulas to the Tensorflow graph. We assume that the input is a 4-dimensional tensor with the dimensions being the following:-\n",
        "1. Image Number\n",
        "2. X-axis of each Image\n",
        "3. Y-axis  of each Image\n",
        "4. Channels of each Image\n",
        "\n",
        "The input channels can be color channel or filter channels based on the fact that the input is produced from the previous convolution layer.\n",
        "\n",
        "The output tensor is also 4-dimensional:-\n",
        "1. Image Number, same as the input\n",
        "2. X-axis of each image. If 2x2 pooling is used, then the width of images is divided by 2.\n",
        "3. Y-axis of the image. If 2x2 pooling is used, then the width of images is divided by 2.\n",
        "4. Channels produced by each of the convolution layers.\n"
      ]
    },
    {
      "cell_type": "code",
      "metadata": {
        "id": "z0HdBvsArbOw",
        "colab_type": "code",
        "colab": {}
      },
      "source": [
        "def new_conv_layer(input,                  # previous layer\n",
        "                   num_input_channels,     # Num of channels in prev layer\n",
        "                   filter_size,            # Width and Height of each filter\n",
        "                   num_filters,            # Num of filters\n",
        "                   use_pooling=True):      # Use 2x2 pooling\n",
        "\n",
        "\n",
        "    # Shape of filter weights for the convolution. \n",
        "    # This Format determined by the tensorlflow API\n",
        "    shape = [filter_size, filter_size, num_input_channels, num_filters]\n",
        "\n",
        "    #Create new weights aka filters with the given shape\n",
        "    weights = new_weight(shape=shape)\n",
        "\n",
        "    #Create new biases for each filter \n",
        "    biases = new_biases(length=num_filters)\n",
        "\n",
        "    # Create Tensorflow operation for new convolution.\n",
        "    # Note that strides are set to 1 in all dimensions.\n",
        "    # The first and last stride must always be 1 because \n",
        "    # first is for image number and last is for input channel.\n",
        "    # For eg. [1,2,2,1] would mean that filter is moved 2 pixels across x \n",
        "    # and y-axis of the image\n",
        "    # The padding is also set to \"SAME\" which means that the input image is \n",
        "    # padded with zeroes, so the size of the output is same.\n",
        "    layer = tf.nn.conv2d(input=input,\n",
        "                         filter=weights,\n",
        "                         strides=[1,1,1,1],\n",
        "                         padding='SAME')\n",
        "    \n",
        "    # Add the biases to the result of the convolution\n",
        "    # A bias value is added to each filter-channel\n",
        "    layer += biases\n",
        "\n",
        "    #Use pooling to down sample image resolution\n",
        "    if use_pooling:\n",
        "       # this is a 2x2 max-pooling which means that we consider 2x2 windows\n",
        "       # and select the largest value in each window. Then we move 2 pixels\n",
        "       # to the next window\n",
        "       layer = tf.nn.max_pool(value=layer,\n",
        "                              ksize=[1,2,2,1],\n",
        "                              strides=[1,2,2,1],\n",
        "                              padding='SAME')\n",
        "    # Rectified Linear Unit (ReLU)\n",
        "    # It calculates max(x, 0) for each pixel, basically changing all -1s to 0s\n",
        "    # This adds some non-linearity to the formula.\n",
        "    layer = tf.nn.relu(layer)   \n",
        "\n",
        "    # ReLU is normally executed before the pooling, but since relu(max_pool(x))\n",
        "    # == max_pool(relu(x)) we can save 75% of the operations by pooling first.\n",
        "\n",
        "    # We return both the resulting layer and weights because we will use both of \n",
        "    # them later, and we will plot the weights.\n",
        "\n",
        "    return layer, weights\n",
        "\n",
        "\n",
        "                \n",
        "\n",
        "              \n",
        "\n",
        "\n"
      ],
      "execution_count": 0,
      "outputs": []
    },
    {
      "cell_type": "markdown",
      "metadata": {
        "id": "aaL5tbqKyQQ-",
        "colab_type": "text"
      },
      "source": [
        "### Helper Function for flattening a layer"
      ]
    },
    {
      "cell_type": "code",
      "metadata": {
        "id": "G2jjUsvQyP0B",
        "colab_type": "code",
        "colab": {}
      },
      "source": [
        "def flatten_layer(layer):\n",
        "    # Get the shape of the input layer\n",
        "    layer_shape = layer.get_shape()\n",
        "\n",
        "    # The shape of the input layer is assumed to be:\n",
        "    # layer_shape = [num_images, img_width, img_height, num_channels]\n",
        "\n",
        "    # The number of features is: img_width * img_height * num_channels \n",
        "    # The shape uses a tensorflow datatype, so convert it to numpy.\n",
        "    num_features = np.array(layer_shape[1:4], dtype=int).prod()\n",
        "\n",
        "    # Reshape the layer to [num_images, num_features]\n",
        "    # Note that we just set the size of the second dimension to num_features\n",
        "    # and size of first dimension to -1 which means that size in that dimension\n",
        "    # is calculated so total size of the tensor is unchanged from the reshaping. \n",
        "    layer_flat = tf.reshape(layer, [-1,num_features])\n",
        "\n",
        "    # The shape of the flattened layer is now:\n",
        "    # [num_images, img_width * img_height * num_channesls]\n",
        "    \n",
        "    # Return both flattened layer and number of features \n",
        "    return layer_flat, num_features"
      ],
      "execution_count": 0,
      "outputs": []
    },
    {
      "cell_type": "code",
      "metadata": {
        "id": "Wl8h90FWyCzN",
        "colab_type": "code",
        "colab": {}
      },
      "source": [
        "def new_fc_layer(input,           # Previous layer\n",
        "                 num_inputs,      # Num. of Inputs from prev layer\n",
        "                 num_outputs,     # Num. of outputs \n",
        "                 use_relu=True):   # Use Rectified Linear Unit (ReLU) ? \n",
        "\n",
        "\n",
        "    # Create weights and biases \n",
        "    weights = new_weight(shape=[num_inputs,num_outputs])\n",
        "    biases = new_biases(length=num_outputs)\n",
        "\n",
        "    # Calculate the layer as matrix multiplication of inputs and weights, then\n",
        "    # add bias values\n",
        "    layer = tf.matmul(input, weights) + biases\n",
        "\n",
        "    # use ReLU ?\n",
        "    if use_relu:\n",
        "       layer = tf.nn.relu(layer)\n",
        "\n",
        "\n",
        "    return layer\n",
        "                   \n"
      ],
      "execution_count": 0,
      "outputs": []
    },
    {
      "cell_type": "markdown",
      "metadata": {
        "id": "Iy1LOgzX5aBR",
        "colab_type": "text"
      },
      "source": [
        "### Placeholder Variables \n",
        "Placeholder variables serve as an input for the tensorflow computational graph, that we may change every time we execute the graph.\n",
        "\n",
        "First we define a placeholder variable for the input images. This allows us to change the images that are input to the graph. This is a so called tensor which just means that it is multi dimensional vector or a matrix. The data-type is set to float32 and shape is set to [None, img_size-flat], where None means that the tensor might hold an arbitrary number of images with each image being a vector of length img_size_flat.\n"
      ]
    },
    {
      "cell_type": "code",
      "metadata": {
        "id": "vDHo82ZU2xEn",
        "colab_type": "code",
        "colab": {}
      },
      "source": [
        "x = tf.placeholder(tf.float32, shape=[None,img_flat_size], name='x')"
      ],
      "execution_count": 0,
      "outputs": []
    },
    {
      "cell_type": "markdown",
      "metadata": {
        "id": "btEei3Eg7sDp",
        "colab_type": "text"
      },
      "source": [
        "The convolutional layers expect x to be encoded as a 4-dim tensor so we have to reshape it so its shape is instead [num_images, img_height, img_width, num_channels]. Note that img_height == img_width == img_size and num_images can be inferred automatically by using -1 for the size of the first dimension. So the reshape operation is:"
      ]
    },
    {
      "cell_type": "code",
      "metadata": {
        "id": "S_7Say3V68Xh",
        "colab_type": "code",
        "colab": {}
      },
      "source": [
        "x_image = tf.reshape(x, [-1, img_size, img_size, num_channels])"
      ],
      "execution_count": 0,
      "outputs": []
    },
    {
      "cell_type": "markdown",
      "metadata": {
        "id": "A1ipCIJW76lj",
        "colab_type": "text"
      },
      "source": [
        "Next we have the placeholder variable for the true labels associated with the images that were input in the placeholder variable x. The shape of this placeholder variable is [None, num_classes] which means it may hold an arbitrary number of labels and each label is a vector of length num_classes which is 10 in this case."
      ]
    },
    {
      "cell_type": "code",
      "metadata": {
        "id": "y_liX50x7vo3",
        "colab_type": "code",
        "colab": {}
      },
      "source": [
        "y_true = tf.placeholder(tf.float32, shape=[None, num_classes], name='y_true')"
      ],
      "execution_count": 0,
      "outputs": []
    },
    {
      "cell_type": "markdown",
      "metadata": {
        "id": "qh6xikfd8fD_",
        "colab_type": "text"
      },
      "source": [
        "We could also have a placeholder variable for the class-number, but we will instead calculate it using argmax. Note that this is a TensorFlow operator so nothing is calculated at this point."
      ]
    },
    {
      "cell_type": "code",
      "metadata": {
        "id": "0q8R_4Kj78_P",
        "colab_type": "code",
        "colab": {}
      },
      "source": [
        "y_true_cls = tf.argmax(y_true, axis=1)"
      ],
      "execution_count": 0,
      "outputs": []
    },
    {
      "cell_type": "markdown",
      "metadata": {
        "id": "GQiJKsr18lK4",
        "colab_type": "text"
      },
      "source": [
        "### Convolution Layer 1\n",
        "Here we create the first convolution layer. We use the x_image as the input with num_filters1 number of filters, each of the filter_size1 size.We also wish to down sample the image so it is half the size by using 2x2 pooling"
      ]
    },
    {
      "cell_type": "code",
      "metadata": {
        "id": "8cJ7NFzt8iIw",
        "colab_type": "code",
        "colab": {}
      },
      "source": [
        "layer_conv1, weights_conv1 = \\\n",
        "    new_conv_layer(input=x_image,\n",
        "                   num_input_channels=num_channels,\n",
        "                   filter_size=filter_size1,\n",
        "                   num_filters=num_filters1,\n",
        "                   use_pooling=True)"
      ],
      "execution_count": 0,
      "outputs": []
    },
    {
      "cell_type": "markdown",
      "metadata": {
        "id": "kMH1ZbR_9ael",
        "colab_type": "text"
      },
      "source": [
        "Check the shape of the tensor that will be output by the convolutional layer. It is (?, 14, 14, 16) which means that there is an arbitrary number of images (this is the ?), each image is 14 pixels wide and 14 pixels high, and there are 16 different channels, one channel for each of the filters."
      ]
    },
    {
      "cell_type": "code",
      "metadata": {
        "id": "GxgcRHwO9M3C",
        "colab_type": "code",
        "colab": {
          "base_uri": "https://localhost:8080/",
          "height": 34
        },
        "outputId": "2cf3ca00-ddec-406f-ef54-47d98917324b"
      },
      "source": [
        "layer_conv1"
      ],
      "execution_count": 22,
      "outputs": [
        {
          "output_type": "execute_result",
          "data": {
            "text/plain": [
              "<tf.Tensor 'Relu:0' shape=(?, 14, 14, 16) dtype=float32>"
            ]
          },
          "metadata": {
            "tags": []
          },
          "execution_count": 22
        }
      ]
    },
    {
      "cell_type": "markdown",
      "metadata": {
        "id": "tKWC-F4cE6-T",
        "colab_type": "text"
      },
      "source": [
        "### Convolution Layer 2\n",
        "Create the second convolutional layer, which takes as input the output from the first convolutional layer. The number of input channels corresponds to the number of filters in the first convolutional layer\n",
        "\n"
      ]
    },
    {
      "cell_type": "code",
      "metadata": {
        "id": "277EhLN-E3-g",
        "colab_type": "code",
        "colab": {}
      },
      "source": [
        "layer_conv2, weights_conv2 = \\\n",
        "    new_conv_layer(input=layer_conv1,\n",
        "                   num_input_channels=num_filters1,\n",
        "                   filter_size=filter_size2,\n",
        "                   num_filters=num_filters2,\n",
        "                   use_pooling=True)"
      ],
      "execution_count": 0,
      "outputs": []
    },
    {
      "cell_type": "markdown",
      "metadata": {
        "id": "AwYW8BGyFUTY",
        "colab_type": "text"
      },
      "source": [
        "Check the shape of the tensor that will be output from this convolutional layer. The shape is (?, 7, 7, 36) where the ? again means that there is an arbitrary number of images, with each image having width and height of 7 pixels, and there are 36 channels, one for each filter."
      ]
    },
    {
      "cell_type": "code",
      "metadata": {
        "id": "W2K3GNfyFJ1t",
        "colab_type": "code",
        "colab": {
          "base_uri": "https://localhost:8080/",
          "height": 34
        },
        "outputId": "63fbdf49-8be7-44f9-a06a-150e1e0e8c90"
      },
      "source": [
        "layer_conv2"
      ],
      "execution_count": 24,
      "outputs": [
        {
          "output_type": "execute_result",
          "data": {
            "text/plain": [
              "<tf.Tensor 'Relu_1:0' shape=(?, 7, 7, 36) dtype=float32>"
            ]
          },
          "metadata": {
            "tags": []
          },
          "execution_count": 24
        }
      ]
    },
    {
      "cell_type": "markdown",
      "metadata": {
        "id": "1_qK6_KmFcX2",
        "colab_type": "text"
      },
      "source": [
        "### Flatten Layer\n",
        "The convolutional layers output 4-dim tensors. We now wish to use these as input in a fully-connected network, which requires for the tensors to be reshaped or flattened to 2-dim tensors."
      ]
    },
    {
      "cell_type": "code",
      "metadata": {
        "id": "6M9f6ROLFWEM",
        "colab_type": "code",
        "colab": {}
      },
      "source": [
        "layer_flat, num_features = flatten_layer(layer_conv2)"
      ],
      "execution_count": 0,
      "outputs": []
    },
    {
      "cell_type": "markdown",
      "metadata": {
        "id": "gl6dugI7FlQ9",
        "colab_type": "text"
      },
      "source": [
        "Check that the tensors now have shape (?, 1764) which means there's an arbitrary number of images which have been flattened to vectors of length 1764 each. Note that 1764 = 7 x 7 x 36."
      ]
    },
    {
      "cell_type": "code",
      "metadata": {
        "id": "Bb8ldbvZFisd",
        "colab_type": "code",
        "colab": {
          "base_uri": "https://localhost:8080/",
          "height": 34
        },
        "outputId": "a0f7343e-aa24-4cb4-d0be-b2799a2937cb"
      },
      "source": [
        "layer_flat"
      ],
      "execution_count": 26,
      "outputs": [
        {
          "output_type": "execute_result",
          "data": {
            "text/plain": [
              "<tf.Tensor 'Reshape_1:0' shape=(?, 1764) dtype=float32>"
            ]
          },
          "metadata": {
            "tags": []
          },
          "execution_count": 26
        }
      ]
    },
    {
      "cell_type": "code",
      "metadata": {
        "id": "4kZ_Mw4yFm1t",
        "colab_type": "code",
        "colab": {
          "base_uri": "https://localhost:8080/",
          "height": 34
        },
        "outputId": "4cd46c8f-d8ac-4495-8ca3-0b942567abdf"
      },
      "source": [
        "num_features"
      ],
      "execution_count": 27,
      "outputs": [
        {
          "output_type": "execute_result",
          "data": {
            "text/plain": [
              "1764"
            ]
          },
          "metadata": {
            "tags": []
          },
          "execution_count": 27
        }
      ]
    },
    {
      "cell_type": "markdown",
      "metadata": {
        "id": "hiEOvnYjFwMn",
        "colab_type": "text"
      },
      "source": [
        "### Fully Connected Layer 1\n",
        "Add a fully-connected layer to the network. The input is the flattened layer from the previous convolution. The number of neurons or nodes in the fully-connected layer is fc_size. ReLU is used so we can learn non-linear relations."
      ]
    },
    {
      "cell_type": "code",
      "metadata": {
        "id": "k2imT7IyFn6H",
        "colab_type": "code",
        "colab": {}
      },
      "source": [
        "layer_fc1 = new_fc_layer(input=layer_flat,\n",
        "                         num_inputs=num_features,\n",
        "                         num_outputs=full_connection_size,\n",
        "                         use_relu=True)"
      ],
      "execution_count": 0,
      "outputs": []
    },
    {
      "cell_type": "markdown",
      "metadata": {
        "id": "_-qbmuOwGJcb",
        "colab_type": "text"
      },
      "source": [
        "Check that the output of the fully-connected layer is a tensor with shape (?, 128) where the ? means there is an arbitrary number of images and fc_size == 128."
      ]
    },
    {
      "cell_type": "code",
      "metadata": {
        "id": "qTmChCrqF6Wx",
        "colab_type": "code",
        "colab": {
          "base_uri": "https://localhost:8080/",
          "height": 34
        },
        "outputId": "3c2804f8-e2db-40ac-8dcf-941c66c09971"
      },
      "source": [
        "layer_fc1"
      ],
      "execution_count": 29,
      "outputs": [
        {
          "output_type": "execute_result",
          "data": {
            "text/plain": [
              "<tf.Tensor 'Relu_2:0' shape=(?, 128) dtype=float32>"
            ]
          },
          "metadata": {
            "tags": []
          },
          "execution_count": 29
        }
      ]
    },
    {
      "cell_type": "markdown",
      "metadata": {
        "id": "kzBev-GmGX1M",
        "colab_type": "text"
      },
      "source": [
        "### Fully Connected Layer 2\n",
        "Add another fully-connected layer that outputs vectors of length 10 for determining which of the 10 classes the input image belongs to. Note that ReLU is not used in this layer."
      ]
    },
    {
      "cell_type": "code",
      "metadata": {
        "id": "vWNiCiDTGLTr",
        "colab_type": "code",
        "colab": {}
      },
      "source": [
        "layer_fc2 = new_fc_layer(input=layer_fc1,\n",
        "                         num_inputs=full_connection_size,\n",
        "                         num_outputs=num_classes,\n",
        "                         use_relu=False)\n"
      ],
      "execution_count": 0,
      "outputs": []
    },
    {
      "cell_type": "code",
      "metadata": {
        "id": "L0DPI3NzGduS",
        "colab_type": "code",
        "colab": {
          "base_uri": "https://localhost:8080/",
          "height": 34
        },
        "outputId": "3595d05e-7406-4066-d30e-2d3f77a51d84"
      },
      "source": [
        "layer_fc2"
      ],
      "execution_count": 31,
      "outputs": [
        {
          "output_type": "execute_result",
          "data": {
            "text/plain": [
              "<tf.Tensor 'add_3:0' shape=(?, 10) dtype=float32>"
            ]
          },
          "metadata": {
            "tags": []
          },
          "execution_count": 31
        }
      ]
    },
    {
      "cell_type": "markdown",
      "metadata": {
        "id": "CbaYx6KoGtkC",
        "colab_type": "text"
      },
      "source": [
        "### Predicted Class\n",
        "The second fully-connected layer estimates how likely it is that the input image belongs to each of the 10 classes. However, these estimates are a bit rough and difficult to interpret because the numbers may be very small or large, so we want to normalize them so that each element is limited between zero and one and the 10 elements sum to one. This is calculated using the so-called softmax function and the result is stored in y_pred."
      ]
    },
    {
      "cell_type": "code",
      "metadata": {
        "id": "0UiM7SsOGiRn",
        "colab_type": "code",
        "colab": {}
      },
      "source": [
        "y_pred = tf.nn.softmax(layer_fc2)"
      ],
      "execution_count": 0,
      "outputs": []
    },
    {
      "cell_type": "markdown",
      "metadata": {
        "id": "ZizpJOTUG3B3",
        "colab_type": "text"
      },
      "source": [
        "The class-number is the index of the largest element."
      ]
    },
    {
      "cell_type": "code",
      "metadata": {
        "id": "Z6c6CP1eG00W",
        "colab_type": "code",
        "colab": {}
      },
      "source": [
        "y_pred_cls = tf.argmax(y_pred, axis=1)"
      ],
      "execution_count": 0,
      "outputs": []
    },
    {
      "cell_type": "markdown",
      "metadata": {
        "id": "YuE23S6_HCIl",
        "colab_type": "text"
      },
      "source": [
        "### Cross function to guide optimization\n",
        "To make the model better, we need to update the model variables somehow.To do this we first need to know how well the model currently performs by comparing the predicted output of the model y_pred to the desired output y_true.\n",
        "\n",
        "The cross-entropy is a performance measure used in classification. The cross-entropy is a continuous function that is always positive and if the predicted output of the model exactly matches the desired output then the cross-entropy equals zero. The goal of optimization is therefore to minimize the cross-entropy so it gets as close to zero as possible by changing the variables of the network layers.\n",
        "\n",
        "TensorFlow has a built-in function for calculating the cross-entropy. Note that the function calculates the softmax internally so we must use the output of layer_fc2 directly rather than y_pred which has already had the softmax applied."
      ]
    },
    {
      "cell_type": "code",
      "metadata": {
        "id": "C4ng4hIlG4sM",
        "colab_type": "code",
        "colab": {}
      },
      "source": [
        "cross_entropy = tf.nn.softmax_cross_entropy_with_logits_v2(logits=layer_fc2,\n",
        "                                                        labels=y_true)"
      ],
      "execution_count": 0,
      "outputs": []
    },
    {
      "cell_type": "markdown",
      "metadata": {
        "id": "lbglSQB6HgDP",
        "colab_type": "text"
      },
      "source": [
        "We have now calculated the cross-entropy for each of the image classifications so we have a measure of how well the model performs on each image individually. But in order to use the cross-entropy to guide the optimization of the model's variables we need a single scalar value, so we simply take the average of the cross-entropy for all the image classifications."
      ]
    },
    {
      "cell_type": "code",
      "metadata": {
        "id": "YEjf1GzwHbsq",
        "colab_type": "code",
        "colab": {}
      },
      "source": [
        "cost = tf.reduce_mean(cross_entropy)"
      ],
      "execution_count": 0,
      "outputs": []
    },
    {
      "cell_type": "markdown",
      "metadata": {
        "id": "KalU32tlHji7",
        "colab_type": "text"
      },
      "source": [
        "### Optimization Function\n",
        "Now that we have a cost measure that must be minimized, we can then create an optimizer. In this case it is the AdamOptimizer which is an advanced form of Gradient Descent.\n",
        "\n",
        "Note that optimization is not performed at this point. In fact, nothing is calculated at all, we just add the optimizer-object to the TensorFlow graph for later execution."
      ]
    },
    {
      "cell_type": "code",
      "metadata": {
        "id": "9MCOuFWTHhpl",
        "colab_type": "code",
        "colab": {}
      },
      "source": [
        "optimizer = tf.train.AdamOptimizer(learning_rate=1e-4).minimize(cost)"
      ],
      "execution_count": 0,
      "outputs": []
    },
    {
      "cell_type": "markdown",
      "metadata": {
        "id": "phCXIjhAHrrD",
        "colab_type": "text"
      },
      "source": [
        "###Performance Measures\n",
        "We need a few more performance measures to display the progress to the user.\n",
        "\n",
        "This is a vector of booleans whether the predicted class equals the true class of each image."
      ]
    },
    {
      "cell_type": "code",
      "metadata": {
        "id": "pIqwc_F6HqTi",
        "colab_type": "code",
        "colab": {}
      },
      "source": [
        "correct_prediction = tf.equal(y_pred_cls, y_true_cls)"
      ],
      "execution_count": 0,
      "outputs": []
    },
    {
      "cell_type": "markdown",
      "metadata": {
        "id": "WBJLQavDH2Qv",
        "colab_type": "text"
      },
      "source": [
        "This calculates the classification accuracy by first type-casting the vector of booleans to floats, so that False becomes 0 and True becomes 1, and then calculating the average of these numbers."
      ]
    },
    {
      "cell_type": "code",
      "metadata": {
        "id": "vLEgnaY5Hzmx",
        "colab_type": "code",
        "colab": {}
      },
      "source": [
        "accuracy = tf.reduce_mean(tf.cast(correct_prediction, tf.float32))"
      ],
      "execution_count": 0,
      "outputs": []
    },
    {
      "cell_type": "markdown",
      "metadata": {
        "id": "Sq8YO3ytH64x",
        "colab_type": "text"
      },
      "source": [
        "### Creating a tensorflow session"
      ]
    },
    {
      "cell_type": "code",
      "metadata": {
        "id": "OuRy7Mk3H4BB",
        "colab_type": "code",
        "colab": {}
      },
      "source": [
        "session = tf.Session()"
      ],
      "execution_count": 0,
      "outputs": []
    },
    {
      "cell_type": "code",
      "metadata": {
        "id": "II2QC9G_IASU",
        "colab_type": "code",
        "colab": {}
      },
      "source": [
        "# initialize variables\n",
        "session.run(tf.global_variables_initializer())"
      ],
      "execution_count": 0,
      "outputs": []
    },
    {
      "cell_type": "markdown",
      "metadata": {
        "id": "iiGRmIbnIGDq",
        "colab_type": "text"
      },
      "source": [
        "### Helper function to perform optimization iterations"
      ]
    },
    {
      "cell_type": "code",
      "metadata": {
        "id": "WGNcOYQrIDlY",
        "colab_type": "code",
        "colab": {}
      },
      "source": [
        "# Set batch size\n",
        "train_batch_size = 64"
      ],
      "execution_count": 0,
      "outputs": []
    },
    {
      "cell_type": "markdown",
      "metadata": {
        "id": "b0Hj3XuoIg3o",
        "colab_type": "text"
      },
      "source": [
        "Function for performing a number of optimization iterations so as to gradually improve the variables of the network layers. In each iteration, a new batch of data is selected from the training-set and then TensorFlow executes the optimizer using those training samples. The progress is printed every 100 iterations."
      ]
    },
    {
      "cell_type": "code",
      "metadata": {
        "id": "8yvMr73fIYBG",
        "colab_type": "code",
        "colab": {}
      },
      "source": [
        "# Counter for total number of iterations performed so far.\n",
        "total_iterations = 0\n",
        "\n",
        "def optimize(num_iterations):\n",
        "    # Ensure we update the global variable rather than a local copy.\n",
        "    global total_iterations\n",
        "\n",
        "    # Start-time used for printing time-usage below.\n",
        "    start_time = time.time()\n",
        "\n",
        "    for i in range(total_iterations,\n",
        "                   total_iterations + num_iterations):\n",
        "\n",
        "        # Get a batch of training examples.\n",
        "        # x_batch now holds a batch of images and\n",
        "        # y_true_batch are the true labels for those images.\n",
        "        x_batch, y_true_batch = data.train.next_batch(batch_size=train_batch_size)\n",
        "\n",
        "        # Put the batch into a dict with the proper names\n",
        "        # for placeholder variables in the TensorFlow graph.\n",
        "        feed_dict_train = {x: x_batch,\n",
        "                           y_true: y_true_batch}\n",
        "\n",
        "        # Run the optimizer using this batch of training data.\n",
        "        # TensorFlow assigns the variables in feed_dict_train\n",
        "        # to the placeholder variables and then runs the optimizer.\n",
        "        session.run(optimizer, feed_dict=feed_dict_train)\n",
        "\n",
        "        # Print status every 100 iterations.\n",
        "        if i % 100 == 0:\n",
        "            # Calculate the accuracy on the training-set.\n",
        "            acc = session.run(accuracy, feed_dict=feed_dict_train)\n",
        "\n",
        "            # Message for printing.\n",
        "            msg = \"Optimization Iteration: {0:>6}, Training Accuracy: {1:>6.1%}\"\n",
        "\n",
        "            # Print it.\n",
        "            print(msg.format(i + 1, acc))\n",
        "\n",
        "    # Update the total number of iterations performed.\n",
        "    total_iterations += num_iterations\n",
        "\n",
        "    # Ending time.\n",
        "    end_time = time.time()\n",
        "\n",
        "    # Difference between start and end-times.\n",
        "    time_dif = end_time - start_time\n",
        "\n",
        "    # Print the time-usage.\n",
        "    print(\"Time usage: \" + str(timedelta(seconds=int(round(time_dif)))))"
      ],
      "execution_count": 0,
      "outputs": []
    },
    {
      "cell_type": "markdown",
      "metadata": {
        "id": "PtRXUv7-IoNG",
        "colab_type": "text"
      },
      "source": [
        "### Helper function to plot example errors"
      ]
    },
    {
      "cell_type": "code",
      "metadata": {
        "id": "vgawgR-3Il-x",
        "colab_type": "code",
        "colab": {}
      },
      "source": [
        "def plot_example_errors(cls_pred, correct):\n",
        "    # This function is called from print_test_accuracy() below.\n",
        "\n",
        "    # cls_pred is an array of the predicted class-number for\n",
        "    # all images in the test-set.\n",
        "\n",
        "    # correct is a boolean array whether the predicted class\n",
        "    # is equal to the true class for each image in the test-set.\n",
        "\n",
        "    # Negate the boolean array.\n",
        "    incorrect = (correct == False)\n",
        "    \n",
        "    # Get the images from the test-set that have been\n",
        "    # incorrectly classified.\n",
        "    images = data.test.images[incorrect]\n",
        "    \n",
        "    # Get the predicted classes for those images.\n",
        "    cls_pred = cls_pred[incorrect]\n",
        "\n",
        "    # Get the true classes for those images.\n",
        "    cls_true = data.test.cls[incorrect]\n",
        "    \n",
        "    # Plot the first 9 images.\n",
        "    plot_images(images=images[0:9],\n",
        "                cls_true=cls_true[0:9],\n",
        "                cls_pred=cls_pred[0:9])"
      ],
      "execution_count": 0,
      "outputs": []
    },
    {
      "cell_type": "markdown",
      "metadata": {
        "id": "X3tS2tdRIvSO",
        "colab_type": "text"
      },
      "source": [
        "### Helper function for confusion matrix"
      ]
    },
    {
      "cell_type": "code",
      "metadata": {
        "id": "ySKjUSrEIuC_",
        "colab_type": "code",
        "colab": {}
      },
      "source": [
        "def plot_confusion_matrix(cls_pred):\n",
        "    # This is called from print_test_accuracy() below.\n",
        "\n",
        "    # cls_pred is an array of the predicted class-number for\n",
        "    # all images in the test-set.\n",
        "\n",
        "    # Get the true classifications for the test-set.\n",
        "    cls_true = data.test.cls\n",
        "    \n",
        "    # Get the confusion matrix using sklearn.\n",
        "    cm = confusion_matrix(y_true=cls_true,\n",
        "                          y_pred=cls_pred)\n",
        "\n",
        "    # Print the confusion matrix as text.\n",
        "    print(cm)\n",
        "\n",
        "    # Plot the confusion matrix as an image.\n",
        "    plt.matshow(cm)\n",
        "\n",
        "    # Make various adjustments to the plot.\n",
        "    plt.colorbar()\n",
        "    tick_marks = np.arange(num_classes)\n",
        "    plt.xticks(tick_marks, range(num_classes))\n",
        "    plt.yticks(tick_marks, range(num_classes))\n",
        "    plt.xlabel('Predicted')\n",
        "    plt.ylabel('True')\n",
        "\n",
        "    # Ensure the plot is shown correctly with multiple plots\n",
        "    # in a single Notebook cell.\n",
        "    plt.show()"
      ],
      "execution_count": 0,
      "outputs": []
    },
    {
      "cell_type": "markdown",
      "metadata": {
        "id": "j35c3RKpI7_-",
        "colab_type": "text"
      },
      "source": [
        "### Helper function for printing classification accuracy on test set\n"
      ]
    },
    {
      "cell_type": "code",
      "metadata": {
        "id": "DzclcrNKI0G_",
        "colab_type": "code",
        "colab": {}
      },
      "source": [
        "# Split the test-set into smaller batches of this size.\n",
        "test_batch_size = 256\n",
        "\n",
        "def print_test_accuracy(show_example_errors=False,\n",
        "                        show_confusion_matrix=False):\n",
        "\n",
        "    # Number of images in the test-set.\n",
        "    num_test = len(data.test.images)\n",
        "\n",
        "    # Allocate an array for the predicted classes which\n",
        "    # will be calculated in batches and filled into this array.\n",
        "    cls_pred = np.zeros(shape=num_test, dtype=np.int)\n",
        "\n",
        "    # Now calculate the predicted classes for the batches.\n",
        "    # We will just iterate through all the batches.\n",
        "    # There might be a more clever and Pythonic way of doing this.\n",
        "\n",
        "    # The starting index for the next batch is denoted i.\n",
        "    i = 0\n",
        "\n",
        "    while i < num_test:\n",
        "        # The ending index for the next batch is denoted j.\n",
        "        j = min(i + test_batch_size, num_test)\n",
        "\n",
        "        # Get the images from the test-set between index i and j.\n",
        "        images = data.test.images[i:j, :]\n",
        "\n",
        "        # Get the associated labels.\n",
        "        labels = data.test.labels[i:j, :]\n",
        "\n",
        "        # Create a feed-dict with these images and labels.\n",
        "        feed_dict = {x: images,\n",
        "                     y_true: labels}\n",
        "\n",
        "        # Calculate the predicted class using TensorFlow.\n",
        "        cls_pred[i:j] = session.run(y_pred_cls, feed_dict=feed_dict)\n",
        "\n",
        "        # Set the start-index for the next batch to the\n",
        "        # end-index of the current batch.\n",
        "        i = j\n",
        "\n",
        "    # Convenience variable for the true class-numbers of the test-set.\n",
        "    cls_true = data.test.cls\n",
        "\n",
        "    # Create a boolean array whether each image is correctly classified.\n",
        "    correct = (cls_true == cls_pred)\n",
        "\n",
        "    # Calculate the number of correctly classified images.\n",
        "    # When summing a boolean array, False means 0 and True means 1.\n",
        "    correct_sum = correct.sum()\n",
        "\n",
        "    # Classification accuracy is the number of correctly classified\n",
        "    # images divided by the total number of images in the test-set.\n",
        "    acc = float(correct_sum) / num_test\n",
        "\n",
        "    # Print the accuracy.\n",
        "    msg = \"Accuracy on Test-Set: {0:.1%} ({1} / {2})\"\n",
        "    print(msg.format(acc, correct_sum, num_test))\n",
        "\n",
        "    # Plot some examples of mis-classifications, if desired.\n",
        "    if show_example_errors:\n",
        "        print(\"Example errors:\")\n",
        "        plot_example_errors(cls_pred=cls_pred, correct=correct)\n",
        "\n",
        "    # Plot the confusion matrix, if desired.\n",
        "    if show_confusion_matrix:\n",
        "        print(\"Confusion Matrix:\")\n",
        "        plot_confusion_matrix(cls_pred=cls_pred)"
      ],
      "execution_count": 0,
      "outputs": []
    },
    {
      "cell_type": "markdown",
      "metadata": {
        "id": "k2AEkkpoJpWa",
        "colab_type": "text"
      },
      "source": [
        "### Initial performance without any optimization"
      ]
    },
    {
      "cell_type": "code",
      "metadata": {
        "id": "vQ_SDvQ0Jh_y",
        "colab_type": "code",
        "colab": {
          "base_uri": "https://localhost:8080/",
          "height": 34
        },
        "outputId": "17620fcc-2b74-44ce-d58f-814b3076c38d"
      },
      "source": [
        "print_test_accuracy()"
      ],
      "execution_count": 46,
      "outputs": [
        {
          "output_type": "stream",
          "text": [
            "Accuracy on Test-Set: 9.6% (957 / 10000)\n"
          ],
          "name": "stdout"
        }
      ]
    },
    {
      "cell_type": "markdown",
      "metadata": {
        "id": "FuDxXwd1K5dV",
        "colab_type": "text"
      },
      "source": [
        "### Performance with one optimization"
      ]
    },
    {
      "cell_type": "code",
      "metadata": {
        "id": "58KWPzh-JzgD",
        "colab_type": "code",
        "colab": {
          "base_uri": "https://localhost:8080/",
          "height": 51
        },
        "outputId": "5ae431b0-ad9f-4f00-ad3b-2eb494404377"
      },
      "source": [
        "optimize(num_iterations=1)"
      ],
      "execution_count": 47,
      "outputs": [
        {
          "output_type": "stream",
          "text": [
            "Optimization Iteration:      1, Training Accuracy:   9.4%\n",
            "Time usage: 0:00:00\n"
          ],
          "name": "stdout"
        }
      ]
    },
    {
      "cell_type": "code",
      "metadata": {
        "id": "medNnIwpK_eF",
        "colab_type": "code",
        "colab": {
          "base_uri": "https://localhost:8080/",
          "height": 34
        },
        "outputId": "39ed6abd-1dad-48cd-c50f-cb083b8db1dc"
      },
      "source": [
        "print_test_accuracy()"
      ],
      "execution_count": 48,
      "outputs": [
        {
          "output_type": "stream",
          "text": [
            "Accuracy on Test-Set: 10.1% (1005 / 10000)\n"
          ],
          "name": "stdout"
        }
      ]
    },
    {
      "cell_type": "markdown",
      "metadata": {
        "id": "rmiFsJxbL1HE",
        "colab_type": "text"
      },
      "source": [
        "### Performance after 100 optimizations"
      ]
    },
    {
      "cell_type": "code",
      "metadata": {
        "id": "DFdc1witLrMU",
        "colab_type": "code",
        "colab": {
          "base_uri": "https://localhost:8080/",
          "height": 34
        },
        "outputId": "03cf5fd0-b00e-4311-e0aa-b6f198d68545"
      },
      "source": [
        "optimize(num_iterations=99)"
      ],
      "execution_count": 49,
      "outputs": [
        {
          "output_type": "stream",
          "text": [
            "Time usage: 0:00:07\n"
          ],
          "name": "stdout"
        }
      ]
    },
    {
      "cell_type": "code",
      "metadata": {
        "id": "LL8fOVh0L59N",
        "colab_type": "code",
        "colab": {
          "base_uri": "https://localhost:8080/",
          "height": 296
        },
        "outputId": "a46598e5-78df-45fd-aa39-692b82840500"
      },
      "source": [
        "print_test_accuracy(show_example_errors=True)"
      ],
      "execution_count": 50,
      "outputs": [
        {
          "output_type": "stream",
          "text": [
            "Accuracy on Test-Set: 68.0% (6799 / 10000)\n",
            "Example errors:\n"
          ],
          "name": "stdout"
        },
        {
          "output_type": "display_data",
          "data": {
            "image/png": "[encoded data removed]",
            "text/plain": [
              "<Figure size 432x288 with 9 Axes>"
            ]
          },
          "metadata": {
            "tags": []
          }
        }
      ]
    },
    {
      "cell_type": "markdown",
      "metadata": {
        "id": "mcbmKFr8McKj",
        "colab_type": "text"
      },
      "source": [
        "###Performance after 1000 optimizations"
      ]
    },
    {
      "cell_type": "code",
      "metadata": {
        "id": "lg3zJGIqMBW-",
        "colab_type": "code",
        "colab": {
          "base_uri": "https://localhost:8080/",
          "height": 187
        },
        "outputId": "787c7eef-2ef7-4edf-99f3-82fa93042b93"
      },
      "source": [
        "optimize(num_iterations=900)"
      ],
      "execution_count": 51,
      "outputs": [
        {
          "output_type": "stream",
          "text": [
            "Optimization Iteration:    101, Training Accuracy:  71.9%\n",
            "Optimization Iteration:    201, Training Accuracy:  65.6%\n",
            "Optimization Iteration:    301, Training Accuracy:  87.5%\n",
            "Optimization Iteration:    401, Training Accuracy:  87.5%\n",
            "Optimization Iteration:    501, Training Accuracy:  87.5%\n",
            "Optimization Iteration:    601, Training Accuracy:  89.1%\n",
            "Optimization Iteration:    701, Training Accuracy:  89.1%\n",
            "Optimization Iteration:    801, Training Accuracy:  90.6%\n",
            "Optimization Iteration:    901, Training Accuracy:  85.9%\n",
            "Time usage: 0:01:01\n"
          ],
          "name": "stdout"
        }
      ]
    },
    {
      "cell_type": "code",
      "metadata": {
        "id": "GUycqRboMg13",
        "colab_type": "code",
        "colab": {
          "base_uri": "https://localhost:8080/",
          "height": 296
        },
        "outputId": "47d36f80-12f3-458c-d17f-6a5b142367b6"
      },
      "source": [
        "print_test_accuracy(show_example_errors=True)"
      ],
      "execution_count": 52,
      "outputs": [
        {
          "output_type": "stream",
          "text": [
            "Accuracy on Test-Set: 93.5% (9352 / 10000)\n",
            "Example errors:\n"
          ],
          "name": "stdout"
        },
        {
          "output_type": "display_data",
          "data": {
            "image/png": "[encoded data removed]",
            "text/plain": [
              "<Figure size 432x288 with 9 Axes>"
            ]
          },
          "metadata": {
            "tags": []
          }
        }
      ]
    },
    {
      "cell_type": "markdown",
      "metadata": {
        "id": "Lkq6OHSXM_Ns",
        "colab_type": "text"
      },
      "source": [
        "###Performance after 1000 optimizations"
      ]
    },
    {
      "cell_type": "code",
      "metadata": {
        "id": "e0OpcAkiMzxB",
        "colab_type": "code",
        "colab": {
          "base_uri": "https://localhost:8080/",
          "height": 1000
        },
        "outputId": "f7ad604b-714d-435d-c411-b5840592ea4f"
      },
      "source": [
        "optimize(num_iterations=9000) # We performed 1000 iterations above."
      ],
      "execution_count": 53,
      "outputs": [
        {
          "output_type": "stream",
          "text": [
            "Optimization Iteration:   1001, Training Accuracy:  95.3%\n",
            "Optimization Iteration:   1101, Training Accuracy:  96.9%\n",
            "Optimization Iteration:   1201, Training Accuracy:  90.6%\n",
            "Optimization Iteration:   1301, Training Accuracy:  95.3%\n",
            "Optimization Iteration:   1401, Training Accuracy:  98.4%\n",
            "Optimization Iteration:   1501, Training Accuracy:  93.8%\n",
            "Optimization Iteration:   1601, Training Accuracy:  95.3%\n",
            "Optimization Iteration:   1701, Training Accuracy:  92.2%\n",
            "Optimization Iteration:   1801, Training Accuracy: 100.0%\n",
            "Optimization Iteration:   1901, Training Accuracy:  95.3%\n",
            "Optimization Iteration:   2001, Training Accuracy:  96.9%\n",
            "Optimization Iteration:   2101, Training Accuracy:  93.8%\n",
            "Optimization Iteration:   2201, Training Accuracy:  95.3%\n",
            "Optimization Iteration:   2301, Training Accuracy:  96.9%\n",
            "Optimization Iteration:   2401, Training Accuracy:  98.4%\n",
            "Optimization Iteration:   2501, Training Accuracy:  96.9%\n",
            "Optimization Iteration:   2601, Training Accuracy: 100.0%\n",
            "Optimization Iteration:   2701, Training Accuracy:  96.9%\n",
            "Optimization Iteration:   2801, Training Accuracy:  98.4%\n",
            "Optimization Iteration:   2901, Training Accuracy:  96.9%\n",
            "Optimization Iteration:   3001, Training Accuracy:  96.9%\n",
            "Optimization Iteration:   3101, Training Accuracy: 100.0%\n",
            "Optimization Iteration:   3201, Training Accuracy:  98.4%\n",
            "Optimization Iteration:   3301, Training Accuracy:  96.9%\n",
            "Optimization Iteration:   3401, Training Accuracy:  98.4%\n",
            "Optimization Iteration:   3501, Training Accuracy: 100.0%\n",
            "Optimization Iteration:   3601, Training Accuracy:  98.4%\n",
            "Optimization Iteration:   3701, Training Accuracy:  96.9%\n",
            "Optimization Iteration:   3801, Training Accuracy: 100.0%\n",
            "Optimization Iteration:   3901, Training Accuracy:  98.4%\n",
            "Optimization Iteration:   4001, Training Accuracy:  96.9%\n",
            "Optimization Iteration:   4101, Training Accuracy: 100.0%\n",
            "Optimization Iteration:   4201, Training Accuracy:  96.9%\n",
            "Optimization Iteration:   4301, Training Accuracy: 100.0%\n",
            "Optimization Iteration:   4401, Training Accuracy: 100.0%\n",
            "Optimization Iteration:   4501, Training Accuracy: 100.0%\n",
            "Optimization Iteration:   4601, Training Accuracy:  95.3%\n",
            "Optimization Iteration:   4701, Training Accuracy:  98.4%\n",
            "Optimization Iteration:   4801, Training Accuracy:  96.9%\n",
            "Optimization Iteration:   4901, Training Accuracy:  96.9%\n",
            "Optimization Iteration:   5001, Training Accuracy:  98.4%\n",
            "Optimization Iteration:   5101, Training Accuracy:  98.4%\n",
            "Optimization Iteration:   5201, Training Accuracy: 100.0%\n",
            "Optimization Iteration:   5301, Training Accuracy: 100.0%\n",
            "Optimization Iteration:   5401, Training Accuracy:  98.4%\n",
            "Optimization Iteration:   5501, Training Accuracy:  98.4%\n",
            "Optimization Iteration:   5601, Training Accuracy: 100.0%\n",
            "Optimization Iteration:   5701, Training Accuracy: 100.0%\n",
            "Optimization Iteration:   5801, Training Accuracy:  95.3%\n",
            "Optimization Iteration:   5901, Training Accuracy: 100.0%\n",
            "Optimization Iteration:   6001, Training Accuracy: 100.0%\n",
            "Optimization Iteration:   6101, Training Accuracy:  98.4%\n",
            "Optimization Iteration:   6201, Training Accuracy: 100.0%\n",
            "Optimization Iteration:   6301, Training Accuracy: 100.0%\n",
            "Optimization Iteration:   6401, Training Accuracy: 100.0%\n",
            "Optimization Iteration:   6501, Training Accuracy: 100.0%\n",
            "Optimization Iteration:   6601, Training Accuracy: 100.0%\n",
            "Optimization Iteration:   6701, Training Accuracy:  98.4%\n",
            "Optimization Iteration:   6801, Training Accuracy:  98.4%\n",
            "Optimization Iteration:   6901, Training Accuracy: 100.0%\n",
            "Optimization Iteration:   7001, Training Accuracy:  98.4%\n",
            "Optimization Iteration:   7101, Training Accuracy:  96.9%\n",
            "Optimization Iteration:   7201, Training Accuracy: 100.0%\n",
            "Optimization Iteration:   7301, Training Accuracy:  98.4%\n",
            "Optimization Iteration:   7401, Training Accuracy:  96.9%\n",
            "Optimization Iteration:   7501, Training Accuracy:  96.9%\n",
            "Optimization Iteration:   7601, Training Accuracy:  98.4%\n",
            "Optimization Iteration:   7701, Training Accuracy:  98.4%\n",
            "Optimization Iteration:   7801, Training Accuracy: 100.0%\n",
            "Optimization Iteration:   7901, Training Accuracy: 100.0%\n",
            "Optimization Iteration:   8001, Training Accuracy:  98.4%\n",
            "Optimization Iteration:   8101, Training Accuracy: 100.0%\n",
            "Optimization Iteration:   8201, Training Accuracy:  98.4%\n",
            "Optimization Iteration:   8301, Training Accuracy: 100.0%\n",
            "Optimization Iteration:   8401, Training Accuracy: 100.0%\n",
            "Optimization Iteration:   8501, Training Accuracy: 100.0%\n",
            "Optimization Iteration:   8601, Training Accuracy:  98.4%\n",
            "Optimization Iteration:   8701, Training Accuracy: 100.0%\n",
            "Optimization Iteration:   8801, Training Accuracy: 100.0%\n",
            "Optimization Iteration:   8901, Training Accuracy: 100.0%\n",
            "Optimization Iteration:   9001, Training Accuracy:  98.4%\n",
            "Optimization Iteration:   9101, Training Accuracy:  96.9%\n",
            "Optimization Iteration:   9201, Training Accuracy:  96.9%\n",
            "Optimization Iteration:   9301, Training Accuracy: 100.0%\n",
            "Optimization Iteration:   9401, Training Accuracy: 100.0%\n",
            "Optimization Iteration:   9501, Training Accuracy: 100.0%\n",
            "Optimization Iteration:   9601, Training Accuracy: 100.0%\n",
            "Optimization Iteration:   9701, Training Accuracy: 100.0%\n",
            "Optimization Iteration:   9801, Training Accuracy: 100.0%\n",
            "Optimization Iteration:   9901, Training Accuracy: 100.0%\n",
            "Time usage: 0:10:10\n"
          ],
          "name": "stdout"
        }
      ]
    },
    {
      "cell_type": "code",
      "metadata": {
        "id": "fS1hhcHdNEnf",
        "colab_type": "code",
        "colab": {
          "base_uri": "https://localhost:8080/",
          "height": 726
        },
        "outputId": "41980a46-9249-439f-ec13-eaabe0306c69"
      },
      "source": [
        "print_test_accuracy(show_example_errors=True,\n",
        "                    show_confusion_matrix=True)"
      ],
      "execution_count": 54,
      "outputs": [
        {
          "output_type": "stream",
          "text": [
            "Accuracy on Test-Set: 98.8% (9877 / 10000)\n",
            "Example errors:\n"
          ],
          "name": "stdout"
        },
        {
          "output_type": "display_data",
          "data": {
            "image/png": "[encoded data removed]",
            "text/plain": [
              "<Figure size 432x288 with 9 Axes>"
            ]
          },
          "metadata": {
            "tags": []
          }
        },
        {
          "output_type": "stream",
          "text": [
            "Confusion Matrix:\n",
            "[[ 971    0    1    0    0    1    3    1    3    0]\n",
            " [   0 1130    3    0    0    0    1    0    1    0]\n",
            " [   1    0 1026    0    1    0    0    2    2    0]\n",
            " [   0    0    1 1005    0    0    0    1    3    0]\n",
            " [   1    0    2    0  969    0    2    3    3    2]\n",
            " [   2    0    0    6    0  879    1    0    2    2]\n",
            " [   4    2    1    1    1    4  945    0    0    0]\n",
            " [   1    1   10    2    0    0    0 1011    2    1]\n",
            " [   3    0    4    2    1    1    0    1  961    1]\n",
            " [   1    5    0    6    6    2    0    4    5  980]]\n"
          ],
          "name": "stdout"
        },
        {
          "output_type": "display_data",
          "data": {
            "image/png": "[encoded data removed]",
            "text/plain": [
              "<Figure size 288x288 with 2 Axes>"
            ]
          },
          "metadata": {
            "tags": []
          }
        }
      ]
    },
    {
      "cell_type": "markdown",
      "metadata": {
        "id": "fyhxK4evPzns",
        "colab_type": "text"
      },
      "source": [
        "###Visualization of Weights and Layers\n",
        "In trying to understand why the convolutional neural network can recognize handwritten digits, we will now visualize the weights of the convolutional filters and the resulting output images."
      ]
    },
    {
      "cell_type": "markdown",
      "metadata": {
        "id": "Vw_adgg3P5qe",
        "colab_type": "text"
      },
      "source": [
        "Helper-function for plotting convolutional weights"
      ]
    },
    {
      "cell_type": "code",
      "metadata": {
        "id": "QVSUpYnVPcw3",
        "colab_type": "code",
        "colab": {}
      },
      "source": [
        "def plot_conv_weights(weights, input_channel=0):\n",
        "    # Assume weights are TensorFlow ops for 4-dim variables\n",
        "    # e.g. weights_conv1 or weights_conv2.\n",
        "    \n",
        "    # Retrieve the values of the weight-variables from TensorFlow.\n",
        "    # A feed-dict is not necessary because nothing is calculated.\n",
        "    w = session.run(weights)\n",
        "\n",
        "    # Get the lowest and highest values for the weights.\n",
        "    # This is used to correct the colour intensity across\n",
        "    # the images so they can be compared with each other.\n",
        "    w_min = np.min(w)\n",
        "    w_max = np.max(w)\n",
        "\n",
        "    # Number of filters used in the conv. layer.\n",
        "    num_filters = w.shape[3]\n",
        "\n",
        "    # Number of grids to plot.\n",
        "    # Rounded-up, square-root of the number of filters.\n",
        "    num_grids = math.ceil(math.sqrt(num_filters))\n",
        "    \n",
        "    # Create figure with a grid of sub-plots.\n",
        "    fig, axes = plt.subplots(num_grids, num_grids)\n",
        "\n",
        "    # Plot all the filter-weights.\n",
        "    for i, ax in enumerate(axes.flat):\n",
        "        # Only plot the valid filter-weights.\n",
        "        if i<num_filters:\n",
        "            # Get the weights for the i'th filter of the input channel.\n",
        "            # See new_conv_layer() for details on the format\n",
        "            # of this 4-dim tensor.\n",
        "            img = w[:, :, input_channel, i]\n",
        "\n",
        "            # Plot image.\n",
        "            ax.imshow(img, vmin=w_min, vmax=w_max,\n",
        "                      interpolation='nearest', cmap='seismic')\n",
        "        \n",
        "        # Remove ticks from the plot.\n",
        "        ax.set_xticks([])\n",
        "        ax.set_yticks([])\n",
        "    \n",
        "    # Ensure the plot is shown correctly with multiple plots\n",
        "    # in a single Notebook cell.\n",
        "    plt.show()"
      ],
      "execution_count": 0,
      "outputs": []
    },
    {
      "cell_type": "code",
      "metadata": {
        "id": "cthpTH1fQBXD",
        "colab_type": "code",
        "colab": {}
      },
      "source": [
        "def plot_conv_layer(layer, image):\n",
        "    # Assume layer is a TensorFlow op that outputs a 4-dim tensor\n",
        "    # which is the output of a convolutional layer,\n",
        "    # e.g. layer_conv1 or layer_conv2.\n",
        "\n",
        "    # Create a feed-dict containing just one image.\n",
        "    # Note that we don't need to feed y_true because it is\n",
        "    # not used in this calculation.\n",
        "    feed_dict = {x: [image]}\n",
        "\n",
        "    # Calculate and retrieve the output values of the layer\n",
        "    # when inputting that image.\n",
        "    values = session.run(layer, feed_dict=feed_dict)\n",
        "\n",
        "    # Number of filters used in the conv. layer.\n",
        "    num_filters = values.shape[3]\n",
        "\n",
        "    # Number of grids to plot.\n",
        "    # Rounded-up, square-root of the number of filters.\n",
        "    num_grids = math.ceil(math.sqrt(num_filters))\n",
        "    \n",
        "    # Create figure with a grid of sub-plots.\n",
        "    fig, axes = plt.subplots(num_grids, num_grids)\n",
        "\n",
        "    # Plot the output images of all the filters.\n",
        "    for i, ax in enumerate(axes.flat):\n",
        "        # Only plot the images for valid filters.\n",
        "        if i<num_filters:\n",
        "            # Get the output image of using the i'th filter.\n",
        "            # See new_conv_layer() for details on the format\n",
        "            # of this 4-dim tensor.\n",
        "            img = values[0, :, :, i]\n",
        "\n",
        "            # Plot image.\n",
        "            ax.imshow(img, interpolation='nearest', cmap='binary')\n",
        "        \n",
        "        # Remove ticks from the plot.\n",
        "        ax.set_xticks([])\n",
        "        ax.set_yticks([])\n",
        "    \n",
        "    # Ensure the plot is shown correctly with multiple plots\n",
        "    # in a single Notebook cell.\n",
        "    plt.show()"
      ],
      "execution_count": 0,
      "outputs": []
    },
    {
      "cell_type": "markdown",
      "metadata": {
        "id": "X_kpfh5_QHs3",
        "colab_type": "text"
      },
      "source": [
        "### Input Images\n",
        "Helper Function for plotting image"
      ]
    },
    {
      "cell_type": "code",
      "metadata": {
        "id": "zEVNkMBHQFla",
        "colab_type": "code",
        "colab": {}
      },
      "source": [
        "\n",
        "def plot_image(image):\n",
        "    plt.imshow(image.reshape(img_shape),\n",
        "               interpolation='nearest',\n",
        "               cmap='binary')\n",
        "\n",
        "    plt.show()"
      ],
      "execution_count": 0,
      "outputs": []
    },
    {
      "cell_type": "code",
      "metadata": {
        "id": "6X6udG-QQOtC",
        "colab_type": "code",
        "colab": {
          "base_uri": "https://localhost:8080/",
          "height": 265
        },
        "outputId": "fbc5d19d-069b-4962-cbfb-cfd6a0f5296c"
      },
      "source": [
        "image1 = data.test.images[0]\n",
        "plot_image(image1)"
      ],
      "execution_count": 58,
      "outputs": [
        {
          "output_type": "display_data",
          "data": {
            "image/png": "[encoded data removed]",
            "text/plain": [
              "<Figure size 432x288 with 1 Axes>"
            ]
          },
          "metadata": {
            "tags": []
          }
        }
      ]
    },
    {
      "cell_type": "code",
      "metadata": {
        "id": "3-5PGDWFQRGy",
        "colab_type": "code",
        "colab": {
          "base_uri": "https://localhost:8080/",
          "height": 265
        },
        "outputId": "72928470-4b04-48e3-d336-bf9b3da6ea50"
      },
      "source": [
        "image2 = data.test.images[13]\n",
        "plot_image(image2)"
      ],
      "execution_count": 59,
      "outputs": [
        {
          "output_type": "display_data",
          "data": {
            "image/png": "[encoded data removed]",
            "text/plain": [
              "<Figure size 432x288 with 1 Axes>"
            ]
          },
          "metadata": {
            "tags": []
          }
        }
      ]
    },
    {
      "cell_type": "markdown",
      "metadata": {
        "id": "HsXPcgh2Qp3l",
        "colab_type": "text"
      },
      "source": [
        "###Convolution Layer 1\n",
        "Now plot the filter-weights for the first convolutional layer.\n",
        "\n",
        "Note that positive weights are red and negative weights are blue."
      ]
    },
    {
      "cell_type": "code",
      "metadata": {
        "id": "8Q1Kd2CiQdIG",
        "colab_type": "code",
        "colab": {
          "base_uri": "https://localhost:8080/",
          "height": 252
        },
        "outputId": "060eb7b8-1750-4e78-f26e-2583aaa78883"
      },
      "source": [
        "plot_conv_weights(weights=weights_conv1)"
      ],
      "execution_count": 60,
      "outputs": [
        {
          "output_type": "display_data",
          "data": {
            "image/png": "[encoded data removed]",
            "text/plain": [
              "<Figure size 432x288 with 16 Axes>"
            ]
          },
          "metadata": {
            "tags": []
          }
        }
      ]
    },
    {
      "cell_type": "markdown",
      "metadata": {
        "id": "ot_8dDFiQtZ5",
        "colab_type": "text"
      },
      "source": [
        "Applying each of these convolutional filters to the first input image gives the following output images, which are then used as input to the second convolutional layer. Note that these images are down-sampled to 14 x 14 pixels which is half the resolution of the original input image."
      ]
    },
    {
      "cell_type": "code",
      "metadata": {
        "id": "zRzH4XXfQshS",
        "colab_type": "code",
        "colab": {
          "base_uri": "https://localhost:8080/",
          "height": 252
        },
        "outputId": "0594c13f-1295-4c59-c1fc-c3d7b19b7b85"
      },
      "source": [
        "plot_conv_layer(layer=layer_conv1, image=image1)\n"
      ],
      "execution_count": 61,
      "outputs": [
        {
          "output_type": "display_data",
          "data": {
            "image/png": "[encoded data removed]",
            "text/plain": [
              "<Figure size 432x288 with 16 Axes>"
            ]
          },
          "metadata": {
            "tags": []
          }
        }
      ]
    },
    {
      "cell_type": "code",
      "metadata": {
        "id": "WkvgVVzKR58i",
        "colab_type": "code",
        "colab": {
          "base_uri": "https://localhost:8080/",
          "height": 252
        },
        "outputId": "f30b9fa6-0341-420e-9816-3fea559914e3"
      },
      "source": [
        "plot_conv_layer(layer=layer_conv1, image=image2)"
      ],
      "execution_count": 62,
      "outputs": [
        {
          "output_type": "display_data",
          "data": {
            "image/png": "[encoded data removed]",
            "text/plain": [
              "<Figure size 432x288 with 16 Axes>"
            ]
          },
          "metadata": {
            "tags": []
          }
        }
      ]
    },
    {
      "cell_type": "markdown",
      "metadata": {
        "id": "XzCR9ob0Q4mf",
        "colab_type": "text"
      },
      "source": [
        "###Convolution Layer 2\n",
        "Now plot the filter-weights for the second convolutional layer.\n",
        "\n",
        "There are 16 output channels from the first conv-layer, which means there are 16 input channels to the second conv-layer. The second conv-layer has a set of filter-weights for each of its input channels. We start by plotting the filter-weigths for the first channel.\n",
        "\n",
        "Note again that positive weights are red and negative weights are blue."
      ]
    },
    {
      "cell_type": "code",
      "metadata": {
        "id": "LFw_6P0eQwa6",
        "colab_type": "code",
        "colab": {
          "base_uri": "https://localhost:8080/",
          "height": 252
        },
        "outputId": "28e78142-79a0-4435-917e-e0788ea5c0cb"
      },
      "source": [
        "plot_conv_weights(weights=weights_conv2, input_channel=0)"
      ],
      "execution_count": 63,
      "outputs": [
        {
          "output_type": "display_data",
          "data": {
            "image/png": "[encoded data removed]",
            "text/plain": [
              "<Figure size 432x288 with 36 Axes>"
            ]
          },
          "metadata": {
            "tags": []
          }
        }
      ]
    },
    {
      "cell_type": "markdown",
      "metadata": {
        "id": "DbDgpGTxQ_V-",
        "colab_type": "text"
      },
      "source": [
        "There are 16 input channels to the second convolutional layer, so we can make another 15 plots of filter-weights like this. We just make one more with the filter-weights for the second channel."
      ]
    },
    {
      "cell_type": "code",
      "metadata": {
        "id": "I1cN3-sLQ2TQ",
        "colab_type": "code",
        "colab": {
          "base_uri": "https://localhost:8080/",
          "height": 252
        },
        "outputId": "6ae9e631-4918-446f-99f4-e1507a221dd8"
      },
      "source": [
        "plot_conv_weights(weights=weights_conv2, input_channel=1)"
      ],
      "execution_count": 64,
      "outputs": [
        {
          "output_type": "display_data",
          "data": {
            "image/png": "[encoded data removed]",
            "text/plain": [
              "<Figure size 432x288 with 36 Axes>"
            ]
          },
          "metadata": {
            "tags": []
          }
        }
      ]
    },
    {
      "cell_type": "markdown",
      "metadata": {
        "id": "RDXgd3AlRG_U",
        "colab_type": "text"
      },
      "source": [
        "Applying these convolutional filters to the images that were ouput from the first conv-layer gives the following images.\n",
        "\n",
        "Note that these are down-sampled yet again to 7 x 7 pixels which is half the resolution of the images from the first conv-layer."
      ]
    },
    {
      "cell_type": "code",
      "metadata": {
        "id": "QIW2WwYHRBKK",
        "colab_type": "code",
        "colab": {
          "base_uri": "https://localhost:8080/",
          "height": 252
        },
        "outputId": "f419e372-e518-4f43-8f60-853e9437e25c"
      },
      "source": [
        "# First Image\n",
        "plot_conv_layer(layer=layer_conv2, image=image1)"
      ],
      "execution_count": 65,
      "outputs": [
        {
          "output_type": "display_data",
          "data": {
            "image/png": "[encoded data removed]",
            "text/plain": [
              "<Figure size 432x288 with 36 Axes>"
            ]
          },
          "metadata": {
            "tags": []
          }
        }
      ]
    },
    {
      "cell_type": "code",
      "metadata": {
        "id": "N-6N-x5cRI5i",
        "colab_type": "code",
        "colab": {
          "base_uri": "https://localhost:8080/",
          "height": 252
        },
        "outputId": "0c7bc3de-7eb4-4a2d-9f68-4259b60c8c20"
      },
      "source": [
        "# Second Image\n",
        "plot_conv_layer(layer=layer_conv2, image=image2)"
      ],
      "execution_count": 66,
      "outputs": [
        {
          "output_type": "display_data",
          "data": {
            "image/png": "[encoded data removed]",
            "text/plain": [
              "<Figure size 432x288 with 36 Axes>"
            ]
          },
          "metadata": {
            "tags": []
          }
        }
      ]
    },
    {
      "cell_type": "code",
      "metadata": {
        "id": "nmwwblsbRVDM",
        "colab_type": "code",
        "colab": {}
      },
      "source": [
        "session.close()"
      ],
      "execution_count": 0,
      "outputs": []
    },
    {
      "cell_type": "code",
      "metadata": {
        "id": "uKDz5PtjSJpk",
        "colab_type": "code",
        "colab": {}
      },
      "source": [
        ""
      ],
      "execution_count": 0,
      "outputs": []
    }
  ]
}